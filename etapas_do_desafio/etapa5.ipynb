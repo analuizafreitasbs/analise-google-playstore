{
 "cells": [
  {
   "cell_type": "markdown",
   "id": "04e944be-107f-4ea2-a18d-60328c5d90bd",
   "metadata": {},
   "source": [
    "# Quantos apps são classificados como 'Mature 17+': \n",
    "- Um comando bem simples é carregado o arquivo CSV e é solicitada a contagem de quantas vezes \"Mature +17\" aparece.\n",
    "\r\n",
    "---"
   ]
  },
  {
   "cell_type": "code",
   "execution_count": 2,
   "id": "1d8e4059-a954-48d7-9fc9-3e3aa3f71112",
   "metadata": {},
   "outputs": [
    {
     "name": "stdout",
     "output_type": "stream",
     "text": [
      "Número de aplicativos classificados como 'Mature 17+': 447\n"
     ]
    }
   ],
   "source": [
    "import pandas as pd\n",
    "\n",
    "df = pd.read_csv('googleplaystore_clean.csv')\n",
    "\n",
    "mature_apps_count = df[df['Content Rating'] == 'Mature 17+'].shape[0]\n",
    "\n",
    "print(\"Número de aplicativos classificados como 'Mature 17+':\", mature_apps_count)"
   ]
  }
 ],
 "metadata": {
  "kernelspec": {
   "display_name": "Python 3 (ipykernel)",
   "language": "python",
   "name": "python3"
  },
  "language_info": {
   "codemirror_mode": {
    "name": "ipython",
    "version": 3
   },
   "file_extension": ".py",
   "mimetype": "text/x-python",
   "name": "python",
   "nbconvert_exporter": "python",
   "pygments_lexer": "ipython3",
   "version": "3.11.7"
  }
 },
 "nbformat": 4,
 "nbformat_minor": 5
}
