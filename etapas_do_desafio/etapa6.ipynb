{
 "cells": [
  {
   "cell_type": "markdown",
   "id": "c4274e55-a199-4271-a8f0-c59fa8d66085",
   "metadata": {},
   "source": [
    "# Top 10 apps por número de reviews bem como o respectivo número de reviews:\n",
    "- Foi solicitado que os aplicativos fossem listados em ordem decrescente de acordo com o número de reviews. Seguindo o início do código da mesma forma dos outros, foi feita a retirada de aplicativos duplicados, já que, por exemplo, o Instagram aparece duas vezes. Além disso, os valores de reviews foram convertidos para o tipo numérico. Após isso, os aplicativos foram ordenados em ordem decrescente com base no número de reviews e os 10 primeiros foram listados juntamente com suas respectivas quantidades de reviews."
   ]
  },
  {
   "cell_type": "code",
   "execution_count": 3,
   "id": "0f4d593d-35f7-40f9-8f95-9be975746065",
   "metadata": {},
   "outputs": [
    {
     "name": "stdout",
     "output_type": "stream",
     "text": [
      "Top 10 Apps por Número de Reviews:\n",
      "                                                    App     Reviews\n",
      "2246                                           Facebook  78158306.0\n",
      "303                                  WhatsApp Messenger  69119316.0\n",
      "2247                                          Instagram  66577313.0\n",
      "302            Messenger – Text and Video Chat for Free  56642847.0\n",
      "1463                                     Clash of Clans  44891723.0\n",
      "3558            Clean Master- Space Cleaner & Antivirus  42916526.0\n",
      "1447                                     Subway Surfers  27722264.0\n",
      "3239                                            YouTube  25655305.0\n",
      "7067  Security Master - Antivirus, VPN, AppLock, Boo...  24900999.0\n",
      "1453                                       Clash Royale  23133508.0\n"
     ]
    }
   ],
   "source": [
    "import pandas as pd\n",
    "\n",
    "df = pd.read_csv('googleplaystore_clean.csv')\n",
    "\n",
    "df = df.drop_duplicates(subset='App', keep='first')\n",
    "# Tinha aplicativos repetidos, então coloquei o comando para não contar por exemplo duas vezes o instagram\n",
    "\n",
    "df['Reviews'] = pd.to_numeric(df['Reviews'], errors='coerce')\n",
    "\n",
    "# nessa parte ordena e coloca em ordem decrescente.\n",
    "top_10_reviews = df[['App', 'Reviews']].nlargest(10, 'Reviews')\n",
    "\n",
    "print(\"Top 10 Apps por Número de Reviews:\")\n",
    "print(top_10_reviews)"
   ]
  }
 ],
 "metadata": {
  "kernelspec": {
   "display_name": "Python 3 (ipykernel)",
   "language": "python",
   "name": "python3"
  },
  "language_info": {
   "codemirror_mode": {
    "name": "ipython",
    "version": 3
   },
   "file_extension": ".py",
   "mimetype": "text/x-python",
   "name": "python",
   "nbconvert_exporter": "python",
   "pygments_lexer": "ipython3",
   "version": "3.11.7"
  }
 },
 "nbformat": 4,
 "nbformat_minor": 5
}
