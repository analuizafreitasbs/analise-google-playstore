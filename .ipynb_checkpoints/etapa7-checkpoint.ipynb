{
 "cells": [
  {
   "cell_type": "markdown",
   "id": "987ea4d4-2d8f-498e-b7a6-b39676786212",
   "metadata": {},
   "source": [
    "# Top 10 apps com menos Reviews:\n",
    "- Fiz o contrário de criar um código que mostrasse os 10 mais baixados e escohi os 10 menos instalados, a diferença do código é 'nsmallest' que retorna os menores elementos de uma sequência. Segue a mesma lógica do outros só muda isso e a saída."
   ]
  },
  {
   "cell_type": "code",
   "execution_count": 11,
   "id": "135c6ae7-3a3b-485c-815d-bc0debabf848",
   "metadata": {},
   "outputs": [
    {
     "name": "stdout",
     "output_type": "stream",
     "text": [
      "Top 10 Apps com Menos Reviews:\n",
      "                                                 App  Reviews\n",
      "431                                Truth or Dare Pro      0.0\n",
      "432  Private Dating, Hide App- Blue for PrivacyHider      0.0\n",
      "555                               Dating White Girls      0.0\n",
      "557                                     Geeks Dating      0.0\n",
      "561                               CAM5678 Video Chat      0.0\n",
      "562                          Video chat live advices      0.0\n",
      "564                                Pet Lovers Dating      0.0\n",
      "566                                     Latin Dating      0.0\n",
      "569                                      Wifi Mingle      0.0\n",
      "573                            HOW TO ASK A GIRL OUT      0.0\n"
     ]
    }
   ],
   "source": [
    "import pandas as pd\n",
    "\n",
    "df = pd.read_csv('googleplaystore_clean.csv')\n",
    "\n",
    "df = df.drop_duplicates(subset='App', keep='first')\n",
    "\n",
    "df['Reviews'] = pd.to_numeric(df['Reviews'], errors='coerce')\n",
    "\n",
    "top_10_menos_reviews = df[['App', 'Reviews']].nsmallest(10, 'Reviews')\n",
    "\n",
    "print(\"Top 10 Apps com Menos Reviews:\")\n",
    "print(top_10_menos_reviews)\n"
   ]
  },
  {
   "cell_type": "markdown",
   "id": "b03e87b6-b933-431f-8a10-e10964de2540",
   "metadata": {},
   "source": [
    "# Número de apps que não tem restrição de idade (Everyone):\n",
    "- Da mesma forma que foi pedido para contar quantos apps eram para maiores de 17 anos, nesse caso, é solicitado contar quantos apps são classificados como livres para todas as idades."
   ]
  },
  {
   "cell_type": "code",
   "execution_count": 18,
   "id": "ac25d861-ba40-4a97-89aa-35e4d07c5337",
   "metadata": {},
   "outputs": [
    {
     "name": "stdout",
     "output_type": "stream",
     "text": [
      "Número de aplicativos classificados como 'Everyone' ou melhor livre: 8382\n"
     ]
    }
   ],
   "source": [
    "import pandas as pd\n",
    "\n",
    "df = pd.read_csv('googleplaystore_clean.csv')\n",
    "\n",
    "todos_apps_count = df[df['Content Rating'] == 'Everyone'].shape[0]\n",
    "\n",
    "print(\"Número de aplicativos classificados como 'Everyone' ou melhor livre:\", todos_apps_count)"
   ]
  }
 ],
 "metadata": {
  "kernelspec": {
   "display_name": "Python 3 (ipykernel)",
   "language": "python",
   "name": "python3"
  },
  "language_info": {
   "codemirror_mode": {
    "name": "ipython",
    "version": 3
   },
   "file_extension": ".py",
   "mimetype": "text/x-python",
   "name": "python",
   "nbconvert_exporter": "python",
   "pygments_lexer": "ipython3",
   "version": "3.11.7"
  }
 },
 "nbformat": 4,
 "nbformat_minor": 5
}
