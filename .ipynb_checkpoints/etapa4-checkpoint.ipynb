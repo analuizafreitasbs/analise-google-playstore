{
 "cells": [
  {
   "cell_type": "markdown",
   "id": "7f8348a6-2d7b-4318-81b1-57713876627a",
   "metadata": {},
   "source": [
    "# App mais caro existente no dataset:\n",
    "- Foi solicitado que mostrasse o aplicativo mais caro do dataset, que no caso foi o de $400. O código começa como os outros, e há um adendo devido a outro tipo de informação na coluna \"price\", onde é necessário remover os valores \"everyone\". Então, o código retira o valor em dólar e transforma o número em float. Em seguida, localiza qual é o aplicativo mais caro utilizando a função max, que é usada para encontrar o valor máximo."
   ]
  },
  {
   "cell_type": "code",
   "execution_count": 17,
   "id": "92715d5c-f083-4821-b812-42c8f16c2b57",
   "metadata": {},
   "outputs": [
    {
     "name": "stdout",
     "output_type": "stream",
     "text": [
      "Aplicativo mais caro: I'm Rich - Trump Edition\n",
      "Preço: 400.0\n"
     ]
    }
   ],
   "source": [
    "import pandas as pd \n",
    "\n",
    "df = pd.read_csv('googleplaystore_clean.csv')\n",
    "\n",
    "df = df[df['Price'] != 'Everyone']\n",
    "\n",
    "df['Price'] = df['Price'].apply(lambda x: float(x.replace('$', '')) if x != '0' else 0)\n",
    "\n",
    "app_mais_caro = df.loc[df['Price'].idxmax()]\n",
    "\n",
    "print(\"Aplicativo mais caro:\", app_mais_caro['App'])\n",
    "print(\"Preço:\", app_mais_caro['Price'])\n"
   ]
  },
  {
   "cell_type": "code",
   "execution_count": null,
   "id": "dba25e42-aec5-45bd-8102-c3f63b84b20d",
   "metadata": {},
   "outputs": [],
   "source": []
  }
 ],
 "metadata": {
  "kernelspec": {
   "display_name": "Python 3 (ipykernel)",
   "language": "python",
   "name": "python3"
  },
  "language_info": {
   "codemirror_mode": {
    "name": "ipython",
    "version": 3
   },
   "file_extension": ".py",
   "mimetype": "text/x-python",
   "name": "python",
   "nbconvert_exporter": "python",
   "pygments_lexer": "ipython3",
   "version": "3.11.7"
  }
 },
 "nbformat": 4,
 "nbformat_minor": 5
}
