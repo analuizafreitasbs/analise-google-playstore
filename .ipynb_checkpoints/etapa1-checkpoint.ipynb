{
 "cells": [
  {
   "cell_type": "markdown",
   "metadata": {},
   "source": [
    "# Remover linhas duplicadas: \n",
    "- O código faz a leitura do arquivo csv, remove as linhas duplicadas com o comando proposto e cria um novo arquivo csv\n",
    "  que já vem sem as linhas."
   ]
  },
  {
   "cell_type": "code",
   "execution_count": 6,
   "metadata": {},
   "outputs": [
    {
     "name": "stdout",
     "output_type": "stream",
     "text": [
      "\n",
      "Arquivo limpo salvo como: googleplaystore_clean.csv\n"
     ]
    }
   ],
   "source": [
    "import pandas as pd\n",
    "\n",
    "file_path = 'googleplaystore.csv'\n",
    "\n",
    "df = pd.read_csv(file_path)\n",
    "\n",
    "# remove as linhas:\n",
    "df_clean = df.drop_duplicates()\n",
    "\n",
    "# cria o novo csv:\n",
    "clean_file_path = 'googleplaystore_clean.csv'\n",
    "df_clean.to_csv(clean_file_path, index=False)\n",
    "\n",
    "print(f\"\\nArquivo limpo salvo como: {clean_file_path}\")\n"
   ]
  }
 ],
 "metadata": {
  "kernelspec": {
   "display_name": "Python 3 (ipykernel)",
   "language": "python",
   "name": "python3"
  },
  "language_info": {
   "codemirror_mode": {
    "name": "ipython",
    "version": 3
   },
   "file_extension": ".py",
   "mimetype": "text/x-python",
   "name": "python",
   "nbconvert_exporter": "python",
   "pygments_lexer": "ipython3",
   "version": "3.11.7"
  }
 },
 "nbformat": 4,
 "nbformat_minor": 4
}
